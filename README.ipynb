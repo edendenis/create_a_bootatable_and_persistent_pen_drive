{
 "cells": [
  {
   "cell_type": "markdown",
   "metadata": {},
   "source": [
    "# Como configurar/instalar/usar o `pen drive bootável e persistente` no `Linux Ubuntu`\n",
    "\n",
    "## Resumo\n",
    "\n",
    "Neste documento estão contidos os principais comandos e configurações para configurar/instalar/usar o `pen drive bootável e persistente` no `Linux Ubuntu`.\n",
    "\n",
    "## _Abstract_\n",
    "\n",
    "_This document contains the main commands and settings for configuring/installing/using the `pen drive bootável e persistente` on `Linux Ubuntu`._\n"
   ]
  },
  {
   "cell_type": "markdown",
   "metadata": {},
   "source": [
    "## Descrição [2]\n",
    "\n",
    "### `pen drive bootável e persistente`\n",
    "\n",
    "Um pen drive bootável e persistente é uma unidade USB que foi configurada para inicializar um sistema operacional diretamente a partir dela, permitindo a execução do sistema operacional em qualquer computador compatível com USB. Além disso, a persistência significa que é possível salvar e manter alterações, arquivos e configurações mesmo após o desligamento do sistema. Isso é útil para executar sistemas operacionais portáteis, como distribuições Linux, com a capacidade de armazenar dados e configurações personalizadas entre sessões de inicialização.\n"
   ]
  },
  {
   "cell_type": "markdown",
   "metadata": {},
   "source": [
    "## 1. Como configurar/instalar/usar o `pen drive bootável e persistente` no `Linux Ubuntu` [1][3]\n",
    "\n",
    "Para configurar/instalar/usar o `pen drive bootável e persistente` no `Linux Ubuntu`, você pode seguir estes passos:\n",
    "\n",
    "1. Abra o `Terminal Emulator`. Você pode fazer isso pressionando: `Ctrl + Alt + T`"
   ]
  },
  {
   "cell_type": "markdown",
   "metadata": {},
   "source": [
    "2. Certifique-se de que seu sistema esteja limpo e atualizado.\n",
    "\n",
    "    2.1 Limpar o `cache` do gerenciador de pacotes `apt`. Especificamente, ele remove todos os arquivos de pacotes (`.deb`) baixados pelo `apt` e armazenados em `/var/cache/apt/archives/`. Digite o seguinte comando: `sudo apt clean` \n",
    "    \n",
    "    2.2 Remover pacotes `.deb` antigos ou duplicados do cache local. É útil para liberar espaço, pois remove apenas os pacotes que não podem mais ser baixados (ou seja, versões antigas de pacotes que foram atualizados). Digite o seguinte comando: `sudo apt autoclean`\n",
    "\n",
    "    2.3 Remover pacotes que foram automaticamente instalados para satisfazer as dependências de outros pacotes e que não são mais necessários. Digite o seguinte comando: `sudo apt autoremove -y`\n",
    "\n",
    "    2.4 Buscar as atualizações disponíveis para os pacotes que estão instalados em seu sistema. Digite o seguinte comando e pressione `Enter`: `sudo apt update`\n",
    "\n",
    "    2.5 **Corrigir pacotes quebrados**: Isso atualizará a lista de pacotes disponíveis e tentará corrigir pacotes quebrados ou com dependências ausentes: `sudo apt --fix-broken install`\n",
    "\n",
    "    2.6 Limpar o `cache` do gerenciador de pacotes `apt`. Especificamente, ele remove todos os arquivos de pacotes (`.deb`) baixados pelo `apt` e armazenados em `/var/cache/apt/archives/`. Digite o seguinte comando: `sudo apt clean` \n",
    "    \n",
    "    2.7 Para ver a lista de pacotes a serem atualizados, digite o seguinte comando e pressione `Enter`:  `sudo apt list --upgradable`\n",
    "\n",
    "    2.8 Realmente atualizar os pacotes instalados para as suas versões mais recentes, com base na última vez que você executou `sudo apt update`. Digite o seguinte comando e pressione `Enter`: `sudo apt full-upgrade -y`\n",
    "    "
   ]
  },
  {
   "cell_type": "markdown",
   "metadata": {},
   "source": [
    "Para criar um sistema `Linux Ubuntu` persistente em uma unidade USB, você pode seguir estas etapas:\n",
    "\n",
    "1. **Baixe a imagem ISO do Ubuntu:** Primeiro, você precisa baixar a imagem `.iso` mais recente do Ubuntu no site oficial: `Ubuntu Download`.\n",
    "\n",
    "2. **Prepare uma unidade USB:** Você precisará de uma unidade USB com capacidade suficiente para armazenar o `Ubuntu` e seus arquivos persistentes. Certifique-se de fazer backup de todos os dados importantes, pois o processo de criação da unidade USB persistente irá formatar a unidade.\n",
    "\n",
    "3. **Crie um `Live USB` com persistência:** Você pode usar ferramentas como o `Rufus` (para `Windows`) ou o `balenaEtcher` (disponível para Windows, macOS e `Linux`) para gravar a imagem `.iso` do `Ubuntu` na unidade USB.\n",
    "\n",
    "4. **Configure a persistência:** Depois de criar o `Live USB`, você precisará configurar a persistência. Para fazer isso, siga estas etapas:\n",
    "\n",
    "    4.1 Inicialize a partir do `Live USB`.\n",
    "\n",
    "    4.2 Quando a tela de inicialização aparecer, selecione a opção para inicializar o `Ubuntu Live`.\n",
    "\n",
    "    4.3 Uma vez iniciado, abra um terminal.\n",
    "\n",
    "5. **Use o utilitário `mkusb`:** O `mkusb` é um utilitário que pode criar um `Live USB` persistente com facilidade. Você pode instalá-lo e usá-lo para configurar a persistência.\n",
    "\n",
    "    5.1 **Instale o `mkusb` com o seguinte comando no terminal:**\n",
    "\n",
    "    ```\n",
    "    sudo add-apt-repository universe\n",
    "    sudo add-apt-repository ppa:mkusb/ppa\n",
    "    sudo apt-get update\n",
    "    sudo apt-get install mkusb\n",
    "    ```\n",
    "\n",
    "6. **Após a instalação, execute o comando `mkusb` no terminal:** `sudo mkusb /dev/sdX`\n",
    "\n",
    "    Certifique-se de substituir `/dev/sdX` pelo dispositivo correto da sua unidade USB, você pode usar o comando: `lsblk`. você pode executar o comando `mkusb` enquanto estiver executando o `Live USB` do próprio pendrive. Quando você está usando o `Live USB`, você basicamente está executando o sistema operacional diretamente da unidade USB, então você pode usar o terminal para executar comandos como qualquer outro sistema.\n",
    "\n",
    "    Durante o processo, você será solicitado a escolher a opção para criar um sistema persistente. Siga as instruções na tela para configurar a persistência.\n",
    "\n",
    "    6.1 Para criar um sistema persistente no `Ubuntu` usando o `mkusb`, você pode escolher a opção: `d:  dus , guidus, mkusb-dus    - Classic, easy to use`\n",
    "    \n",
    "    Esta é uma versão mais recente e fácil de usar do `mkusb`, projetada para simplificar o processo de criação de unidades USB inicializáveis e persistentes.\n",
    "\n",
    "    Portanto, você deve selecionar a opção `\"d\"` e pressionar `Enter` para usar o `\"mkusb\"`. Este é um método mais intuitivo e atualizado para criar um sistema persistente no Ubuntu.\n",
    "\n",
    "7. **Aguarde a conclusão:** Após a conclusão do processo, você terá um `Live USB` do `Ubuntu` persistente pronto para uso. Você pode reiniciar o computador e inicializar a partir da unidade USB para testar o sistema persistente.\n",
    "\n",
    "Essas etapas devem ajudá-lo a criar um `Live USB` persistente do Ubuntu. Certifique-se de seguir as instruções com cuidado e fazer backup de seus dados importantes antes de prosseguir."
   ]
  },
  {
   "cell_type": "markdown",
   "metadata": {
    "vscode": {
     "languageId": "plaintext"
    }
   },
   "source": [
    "### 1.1 Código completo para configurar/instalar/usar\n",
    "\n",
    "Para configurar/instalar/usar o `pen drive bootável e persistente` no `Linux Ubuntu` sem precisar digitar linha por linha, você pode seguir estas etapas:\n",
    "\n",
    "1. Abra o terminal. Você pode fazer isso pressionando: `Ctrl + Alt + T`\n",
    "\n",
    "2. Digite o seguinte comando e pressione `Enter`:\n",
    "\n",
    "    ```\n",
    "    NÃO há.\n",
    "    ```\n"
   ]
  },
  {
   "cell_type": "markdown",
   "metadata": {
    "vscode": {
     "languageId": "plaintext"
    }
   },
   "source": [
    "## Referências\n",
    "\n",
    "[1] OPENAI. ***Linux Live Persistente?.*** Disponível em: <https://chat.openai.com/c/69f063fb-6cb7-4611-9c48-031595d45d4e> (texto adaptado). Acessado em: 21/03/2023 17:11.\n",
    "\n",
    "[2] OPENAI. ***Vs code: editor popular.*** Disponível em: <https://chat.openai.com/c/b640a25d-f8e3-4922-8a3b-ed74a2657e42> (texto adaptado). Acessado em: 21/03/2024 17:10.\n"
   ]
  }
 ],
 "metadata": {
  "kernelspec": {
   "display_name": "Python 3",
   "language": "python",
   "name": "python3"
  },
  "language_info": {
   "codemirror_mode": {
    "name": "ipython",
    "version": 3
   },
   "file_extension": ".py",
   "mimetype": "text/x-python",
   "name": "python",
   "nbconvert_exporter": "python",
   "pygments_lexer": "ipython3",
   "version": "3.11.8"
  },
  "orig_nbformat": 4
 },
 "nbformat": 4,
 "nbformat_minor": 2
}
